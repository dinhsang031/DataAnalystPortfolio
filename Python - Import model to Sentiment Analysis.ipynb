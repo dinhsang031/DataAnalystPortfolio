{
 "cells": [
  {
   "cell_type": "code",
   "execution_count": 1,
   "id": "1ca6730d",
   "metadata": {
    "ExecuteTime": {
     "end_time": "2023-05-12T07:47:48.124254Z",
     "start_time": "2023-05-12T07:47:43.174793Z"
    }
   },
   "outputs": [],
   "source": [
    "# Import necessary libraries\n",
    "import pandas as pd\n",
    "from transformers import AutoTokenizer, AutoModelForSequenceClassification\n",
    "import torch\n",
    "\n",
    "# Load the pre-trained tokenizer and model\n",
    "checkpoint = \"mr4/phobert-base-vi-sentiment-analysis\"\n",
    "tokenizer = AutoTokenizer.from_pretrained(checkpoint)\n",
    "model = AutoModelForSequenceClassification.from_pretrained(checkpoint)\n",
    "\n",
    "# Load the Excel file and select the \"Draw data\" sheet\n",
    "filename = r\"C:\\Users\\sangnguyendinh\\Desktop\\CS\\Master Data CS FnB.xlsx\"\n",
    "df = pd.read_excel(filename, sheet_name=\"Draw data\")"
   ]
  },
  {
   "cell_type": "code",
   "execution_count": 2,
   "id": "2f5f12e9",
   "metadata": {
    "ExecuteTime": {
     "end_time": "2023-05-12T07:47:48.139929Z",
     "start_time": "2023-05-12T07:47:48.124254Z"
    }
   },
   "outputs": [],
   "source": [
    "# Define the column numbers for the Note column and the 3 new result columns\n",
    "note_col_num = 0  # Assuming Note column is in column A\n",
    "pos_col_num = len(df.columns)\n",
    "neg_col_num = len(df.columns) + 1\n",
    "neu_col_num = len(df.columns) + 2"
   ]
  },
  {
   "cell_type": "code",
   "execution_count": 3,
   "id": "53001ebf",
   "metadata": {
    "ExecuteTime": {
     "end_time": "2023-05-12T07:50:33.615496Z",
     "start_time": "2023-05-12T07:47:48.142360Z"
    }
   },
   "outputs": [],
   "source": [
    "# Analyze the Note column and write results to new columns\n",
    "positive = []\n",
    "negative = []\n",
    "neutral = []\n",
    "for note in df[\"Note\"]:\n",
    "    if pd.isnull(note):\n",
    "        positive.append(\"N/A\")\n",
    "        negative.append(\"N/A\")\n",
    "        neutral.append(\"N/A\")\n",
    "    else:\n",
    "        inputs = tokenizer(note, padding=True, truncation=True, return_tensors=\"pt\")\n",
    "        outputs = model(**inputs)\n",
    "        predictions = torch.nn.functional.softmax(outputs.logits, dim=-1).detach().numpy()[0]\n",
    "        positive.append(round(predictions[1], 3))\n",
    "        negative.append(round(predictions[0], 3))\n",
    "        neutral.append(round(predictions[2], 3))\n",
    "\n",
    "df[\"Positive\"] = positive\n",
    "df[\"Negative\"] = negative\n",
    "df[\"Neutral\"] = neutral"
   ]
  },
  {
   "cell_type": "code",
   "execution_count": 5,
   "id": "b333c175",
   "metadata": {
    "ExecuteTime": {
     "end_time": "2023-05-12T07:50:52.813641Z",
     "start_time": "2023-05-12T07:50:52.384270Z"
    }
   },
   "outputs": [],
   "source": [
    "# Save the updated dataframe to a new Excel file\n",
    "df.to_excel(r\"C:\\Users\\sangnguyendinh\\Desktop\\CS\\Phân tích kết quả.xlsx\", sheet_name=\"Draw data\", index=False, encoding='utf-8-sig')"
   ]
  }
 ],
 "metadata": {
  "kernelspec": {
   "display_name": "Python 3 (ipykernel)",
   "language": "python",
   "name": "python3"
  },
  "language_info": {
   "codemirror_mode": {
    "name": "ipython",
    "version": 3
   },
   "file_extension": ".py",
   "mimetype": "text/x-python",
   "name": "python",
   "nbconvert_exporter": "python",
   "pygments_lexer": "ipython3",
   "version": "3.10.9"
  },
  "toc": {
   "base_numbering": 1,
   "nav_menu": {},
   "number_sections": true,
   "sideBar": true,
   "skip_h1_title": false,
   "title_cell": "Table of Contents",
   "title_sidebar": "Contents",
   "toc_cell": false,
   "toc_position": {
    "height": "calc(100% - 180px)",
    "left": "10px",
    "top": "150px",
    "width": "256px"
   },
   "toc_section_display": true,
   "toc_window_display": false
  }
 },
 "nbformat": 4,
 "nbformat_minor": 5
}
