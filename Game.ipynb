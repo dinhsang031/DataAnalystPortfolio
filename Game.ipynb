{
 "cells": [
  {
   "cell_type": "markdown",
   "id": "90bb13e5",
   "metadata": {},
   "source": [
    "# Import libaries and dataframe from SQLite"
   ]
  },
  {
   "cell_type": "code",
   "execution_count": 1,
   "id": "ea318905",
   "metadata": {
    "ExecuteTime": {
     "end_time": "2023-06-10T18:32:47.578279Z",
     "start_time": "2023-06-10T18:32:43.075526Z"
    }
   },
   "outputs": [],
   "source": [
    "# Import libaries\n",
    "import sqlite3\n",
    "import pandas as pd\n",
    "import matplotlib.pyplot as plt\n",
    "import seaborn as sns\n",
    "\n",
    "# Connect to database in SQLite\n",
    "conn = sqlite3.connect(r'C:\\Users\\IT\\Desktop\\Nguyen Dinh Sang\\Sample Data.sqlite')\n",
    "\n",
    "# Read \"account\" table to DataFrame\n",
    "df_account = pd.read_sql_query(\"SELECT * FROM account\", conn)\n",
    "\n",
    "# Read \"account_date_session\" table to DataFrame\n",
    "df_account_date_session = pd.read_sql_query(\"SELECT * FROM account_date_session\", conn)\n",
    "\n",
    "# Read \"iap_purchase\" table to DataFrame\n",
    "df_iap_purchase = pd.read_sql_query(\"SELECT * FROM iap_purchase\", conn)\n",
    "\n",
    "# Close connection\n",
    "conn.close()"
   ]
  },
  {
   "cell_type": "markdown",
   "id": "ba033897",
   "metadata": {},
   "source": [
    "# Data Cleaning"
   ]
  },
  {
   "cell_type": "markdown",
   "id": "ab76dfc7",
   "metadata": {},
   "source": [
    "## Dataframe \"account\""
   ]
  },
  {
   "cell_type": "code",
   "execution_count": 2,
   "id": "7f9c3778",
   "metadata": {
    "ExecuteTime": {
     "end_time": "2023-06-10T18:32:47.679424Z",
     "start_time": "2023-06-10T18:32:47.581916Z"
    },
    "scrolled": false
   },
   "outputs": [
    {
     "name": "stdout",
     "output_type": "stream",
     "text": [
      "<class 'pandas.core.frame.DataFrame'>\n",
      "RangeIndex: 112792 entries, 0 to 112791\n",
      "Data columns (total 6 columns):\n",
      " #   Column                Non-Null Count   Dtype \n",
      "---  ------                --------------   ----- \n",
      " 0   account_id            112792 non-null  object\n",
      " 1   created_time          112792 non-null  object\n",
      " 2   created_device        112792 non-null  object\n",
      " 3   created_platform      112792 non-null  object\n",
      " 4   country_code          112685 non-null  object\n",
      " 5   created_app_store_id  112792 non-null  int64 \n",
      "dtypes: int64(1), object(5)\n",
      "memory usage: 5.2+ MB\n"
     ]
    }
   ],
   "source": [
    "# Overall \"account\" dataframe \n",
    "df_account.info()"
   ]
  },
  {
   "cell_type": "code",
   "execution_count": 3,
   "id": "c8031fb7",
   "metadata": {
    "ExecuteTime": {
     "end_time": "2023-06-10T18:32:47.698845Z",
     "start_time": "2023-06-10T18:32:47.681355Z"
    },
    "scrolled": false
   },
   "outputs": [
    {
     "data": {
      "text/html": [
       "<div>\n",
       "<style scoped>\n",
       "    .dataframe tbody tr th:only-of-type {\n",
       "        vertical-align: middle;\n",
       "    }\n",
       "\n",
       "    .dataframe tbody tr th {\n",
       "        vertical-align: top;\n",
       "    }\n",
       "\n",
       "    .dataframe thead th {\n",
       "        text-align: right;\n",
       "    }\n",
       "</style>\n",
       "<table border=\"1\" class=\"dataframe\">\n",
       "  <thead>\n",
       "    <tr style=\"text-align: right;\">\n",
       "      <th></th>\n",
       "      <th>account_id</th>\n",
       "      <th>created_time</th>\n",
       "      <th>created_device</th>\n",
       "      <th>created_platform</th>\n",
       "      <th>country_code</th>\n",
       "      <th>created_app_store_id</th>\n",
       "    </tr>\n",
       "  </thead>\n",
       "  <tbody>\n",
       "    <tr>\n",
       "      <th>0</th>\n",
       "      <td>13514010</td>\n",
       "      <td>2016-03-02 17:11:00.332</td>\n",
       "      <td>iPhone6,2</td>\n",
       "      <td>iOS</td>\n",
       "      <td>GB</td>\n",
       "      <td>1</td>\n",
       "    </tr>\n",
       "    <tr>\n",
       "      <th>1</th>\n",
       "      <td>4308483975</td>\n",
       "      <td>2016-03-02 20:57:46.14</td>\n",
       "      <td>MIDC147PJ</td>\n",
       "      <td>Android</td>\n",
       "      <td>FR</td>\n",
       "      <td>2</td>\n",
       "    </tr>\n",
       "    <tr>\n",
       "      <th>2</th>\n",
       "      <td>17193137415</td>\n",
       "      <td>2016-03-02 13:52:16.735</td>\n",
       "      <td>SM-G360F</td>\n",
       "      <td>Android</td>\n",
       "      <td>IT</td>\n",
       "      <td>2</td>\n",
       "    </tr>\n",
       "    <tr>\n",
       "      <th>3</th>\n",
       "      <td>21488104920</td>\n",
       "      <td>2016-03-02 12:43:27.899</td>\n",
       "      <td>H60-L01</td>\n",
       "      <td>Android</td>\n",
       "      <td>CN</td>\n",
       "      <td>8</td>\n",
       "    </tr>\n",
       "    <tr>\n",
       "      <th>4</th>\n",
       "      <td>21488107995</td>\n",
       "      <td>2016-03-02 17:20:12.145</td>\n",
       "      <td>GT-I9500</td>\n",
       "      <td>Android</td>\n",
       "      <td>RU</td>\n",
       "      <td>2</td>\n",
       "    </tr>\n",
       "  </tbody>\n",
       "</table>\n",
       "</div>"
      ],
      "text/plain": [
       "    account_id             created_time created_device created_platform  \\\n",
       "0     13514010  2016-03-02 17:11:00.332      iPhone6,2              iOS   \n",
       "1   4308483975   2016-03-02 20:57:46.14      MIDC147PJ          Android   \n",
       "2  17193137415  2016-03-02 13:52:16.735       SM-G360F          Android   \n",
       "3  21488104920  2016-03-02 12:43:27.899        H60-L01          Android   \n",
       "4  21488107995  2016-03-02 17:20:12.145       GT-I9500          Android   \n",
       "\n",
       "  country_code  created_app_store_id  \n",
       "0           GB                     1  \n",
       "1           FR                     2  \n",
       "2           IT                     2  \n",
       "3           CN                     8  \n",
       "4           RU                     2  "
      ]
     },
     "execution_count": 3,
     "metadata": {},
     "output_type": "execute_result"
    }
   ],
   "source": [
    "df_account.head()"
   ]
  },
  {
   "cell_type": "code",
   "execution_count": 4,
   "id": "b83de144",
   "metadata": {
    "ExecuteTime": {
     "end_time": "2023-06-10T18:32:47.873893Z",
     "start_time": "2023-06-10T18:32:47.699565Z"
    },
    "scrolled": true
   },
   "outputs": [
    {
     "data": {
      "text/html": [
       "<div>\n",
       "<style scoped>\n",
       "    .dataframe tbody tr th:only-of-type {\n",
       "        vertical-align: middle;\n",
       "    }\n",
       "\n",
       "    .dataframe tbody tr th {\n",
       "        vertical-align: top;\n",
       "    }\n",
       "\n",
       "    .dataframe thead th {\n",
       "        text-align: right;\n",
       "    }\n",
       "</style>\n",
       "<table border=\"1\" class=\"dataframe\">\n",
       "  <thead>\n",
       "    <tr style=\"text-align: right;\">\n",
       "      <th></th>\n",
       "      <th>account_id</th>\n",
       "      <th>created_time</th>\n",
       "      <th>created_device</th>\n",
       "      <th>created_platform</th>\n",
       "      <th>country_code</th>\n",
       "      <th>created_app_store_id</th>\n",
       "      <th>date</th>\n",
       "      <th>time</th>\n",
       "    </tr>\n",
       "  </thead>\n",
       "  <tbody>\n",
       "    <tr>\n",
       "      <th>0</th>\n",
       "      <td>13514010</td>\n",
       "      <td>2016-03-02 17:11:00.332</td>\n",
       "      <td>iPhone6,2</td>\n",
       "      <td>iOS</td>\n",
       "      <td>GB</td>\n",
       "      <td>1</td>\n",
       "      <td>2016-03-02</td>\n",
       "      <td>17:11:00.332000</td>\n",
       "    </tr>\n",
       "    <tr>\n",
       "      <th>1</th>\n",
       "      <td>4308483975</td>\n",
       "      <td>2016-03-02 20:57:46.140</td>\n",
       "      <td>MIDC147PJ</td>\n",
       "      <td>Android</td>\n",
       "      <td>FR</td>\n",
       "      <td>2</td>\n",
       "      <td>2016-03-02</td>\n",
       "      <td>20:57:46.140000</td>\n",
       "    </tr>\n",
       "    <tr>\n",
       "      <th>2</th>\n",
       "      <td>17193137415</td>\n",
       "      <td>2016-03-02 13:52:16.735</td>\n",
       "      <td>SM-G360F</td>\n",
       "      <td>Android</td>\n",
       "      <td>IT</td>\n",
       "      <td>2</td>\n",
       "      <td>2016-03-02</td>\n",
       "      <td>13:52:16.735000</td>\n",
       "    </tr>\n",
       "    <tr>\n",
       "      <th>3</th>\n",
       "      <td>21488104920</td>\n",
       "      <td>2016-03-02 12:43:27.899</td>\n",
       "      <td>H60-L01</td>\n",
       "      <td>Android</td>\n",
       "      <td>CN</td>\n",
       "      <td>8</td>\n",
       "      <td>2016-03-02</td>\n",
       "      <td>12:43:27.899000</td>\n",
       "    </tr>\n",
       "    <tr>\n",
       "      <th>4</th>\n",
       "      <td>21488107995</td>\n",
       "      <td>2016-03-02 17:20:12.145</td>\n",
       "      <td>GT-I9500</td>\n",
       "      <td>Android</td>\n",
       "      <td>RU</td>\n",
       "      <td>2</td>\n",
       "      <td>2016-03-02</td>\n",
       "      <td>17:20:12.145000</td>\n",
       "    </tr>\n",
       "  </tbody>\n",
       "</table>\n",
       "</div>"
      ],
      "text/plain": [
       "    account_id            created_time created_device created_platform  \\\n",
       "0     13514010 2016-03-02 17:11:00.332      iPhone6,2              iOS   \n",
       "1   4308483975 2016-03-02 20:57:46.140      MIDC147PJ          Android   \n",
       "2  17193137415 2016-03-02 13:52:16.735       SM-G360F          Android   \n",
       "3  21488104920 2016-03-02 12:43:27.899        H60-L01          Android   \n",
       "4  21488107995 2016-03-02 17:20:12.145       GT-I9500          Android   \n",
       "\n",
       "  country_code  created_app_store_id        date             time  \n",
       "0           GB                     1  2016-03-02  17:11:00.332000  \n",
       "1           FR                     2  2016-03-02  20:57:46.140000  \n",
       "2           IT                     2  2016-03-02  13:52:16.735000  \n",
       "3           CN                     8  2016-03-02  12:43:27.899000  \n",
       "4           RU                     2  2016-03-02  17:20:12.145000  "
      ]
     },
     "execution_count": 4,
     "metadata": {},
     "output_type": "execute_result"
    }
   ],
   "source": [
    "# Convert the 'created_time' column to datetime type\n",
    "df_account['created_time'] = pd.to_datetime(df_account['created_time'], format=\"%Y-%m-%d %H:%M:%S.%f\")\n",
    "\n",
    "# Split the 'created_time' column into 'date' and 'time' columns\n",
    "df_account['date'] = df_account['created_time'].dt.date\n",
    "df_account['time'] = df_account['created_time'].dt.time\n",
    "df_account.head()"
   ]
  },
  {
   "cell_type": "code",
   "execution_count": 5,
   "id": "9bd4e44e",
   "metadata": {
    "ExecuteTime": {
     "end_time": "2023-06-10T18:32:48.080105Z",
     "start_time": "2023-06-10T18:32:47.873893Z"
    }
   },
   "outputs": [
    {
     "name": "stdout",
     "output_type": "stream",
     "text": [
      "Empty DataFrame\n",
      "Columns: [account_id, created_time, created_device, created_platform, country_code, created_app_store_id, date, time]\n",
      "Index: []\n",
      "Total number of duplicated values in 'account_id' column: 0\n"
     ]
    }
   ],
   "source": [
    "# Check for duplicated values in 'account_id' column of df_account\n",
    "duplicates_account = df_account.duplicated()\n",
    "\n",
    "# Count the number of duplicated values\n",
    "num_duplicates = duplicates_account.sum()\n",
    "\n",
    "# Display the duplicated rows based on 'account_id' column\n",
    "duplicated_rows = df_account[duplicates_account]\n",
    "print(duplicated_rows)\n",
    "\n",
    "# Print the total number of duplicated values\n",
    "print(\"Total number of duplicated values in 'account_id' column:\", num_duplicates)"
   ]
  },
  {
   "cell_type": "markdown",
   "id": "3d93cde6",
   "metadata": {},
   "source": [
    "## Dataframe \"account_date_session\""
   ]
  },
  {
   "cell_type": "code",
   "execution_count": 6,
   "id": "12a6b326",
   "metadata": {
    "ExecuteTime": {
     "end_time": "2023-06-10T18:32:48.092490Z",
     "start_time": "2023-06-10T18:32:48.083057Z"
    },
    "scrolled": true
   },
   "outputs": [
    {
     "name": "stdout",
     "output_type": "stream",
     "text": [
      "<class 'pandas.core.frame.DataFrame'>\n",
      "RangeIndex: 1698974 entries, 0 to 1698973\n",
      "Data columns (total 4 columns):\n",
      " #   Column                Dtype \n",
      "---  ------                ----- \n",
      " 0   account_id            object\n",
      " 1   date                  object\n",
      " 2   session_count         int64 \n",
      " 3   session_duration_sec  int64 \n",
      "dtypes: int64(2), object(2)\n",
      "memory usage: 51.8+ MB\n"
     ]
    }
   ],
   "source": [
    "# Overall \"account_date_session\" dataframe \n",
    "df_account_date_session.info()"
   ]
  },
  {
   "cell_type": "code",
   "execution_count": 7,
   "id": "d8ba0880",
   "metadata": {
    "ExecuteTime": {
     "end_time": "2023-06-10T18:32:48.109286Z",
     "start_time": "2023-06-10T18:32:48.092490Z"
    },
    "scrolled": true
   },
   "outputs": [
    {
     "data": {
      "text/html": [
       "<div>\n",
       "<style scoped>\n",
       "    .dataframe tbody tr th:only-of-type {\n",
       "        vertical-align: middle;\n",
       "    }\n",
       "\n",
       "    .dataframe tbody tr th {\n",
       "        vertical-align: top;\n",
       "    }\n",
       "\n",
       "    .dataframe thead th {\n",
       "        text-align: right;\n",
       "    }\n",
       "</style>\n",
       "<table border=\"1\" class=\"dataframe\">\n",
       "  <thead>\n",
       "    <tr style=\"text-align: right;\">\n",
       "      <th></th>\n",
       "      <th>account_id</th>\n",
       "      <th>date</th>\n",
       "      <th>session_count</th>\n",
       "      <th>session_duration_sec</th>\n",
       "    </tr>\n",
       "  </thead>\n",
       "  <tbody>\n",
       "    <tr>\n",
       "      <th>0</th>\n",
       "      <td>68730811144</td>\n",
       "      <td>2016-01-01</td>\n",
       "      <td>1</td>\n",
       "      <td>47</td>\n",
       "    </tr>\n",
       "    <tr>\n",
       "      <th>1</th>\n",
       "      <td>68730812806</td>\n",
       "      <td>2016-01-01</td>\n",
       "      <td>1</td>\n",
       "      <td>204</td>\n",
       "    </tr>\n",
       "    <tr>\n",
       "      <th>2</th>\n",
       "      <td>68730829426</td>\n",
       "      <td>2016-01-01</td>\n",
       "      <td>12</td>\n",
       "      <td>4703</td>\n",
       "    </tr>\n",
       "    <tr>\n",
       "      <th>3</th>\n",
       "      <td>68730829426</td>\n",
       "      <td>2016-01-02</td>\n",
       "      <td>9</td>\n",
       "      <td>4676</td>\n",
       "    </tr>\n",
       "    <tr>\n",
       "      <th>4</th>\n",
       "      <td>68730829426</td>\n",
       "      <td>2016-01-03</td>\n",
       "      <td>9</td>\n",
       "      <td>2271</td>\n",
       "    </tr>\n",
       "  </tbody>\n",
       "</table>\n",
       "</div>"
      ],
      "text/plain": [
       "    account_id        date  session_count  session_duration_sec\n",
       "0  68730811144  2016-01-01              1                    47\n",
       "1  68730812806  2016-01-01              1                   204\n",
       "2  68730829426  2016-01-01             12                  4703\n",
       "3  68730829426  2016-01-02              9                  4676\n",
       "4  68730829426  2016-01-03              9                  2271"
      ]
     },
     "execution_count": 7,
     "metadata": {},
     "output_type": "execute_result"
    }
   ],
   "source": [
    "df_account_date_session.head()"
   ]
  },
  {
   "cell_type": "code",
   "execution_count": 8,
   "id": "733acd1d",
   "metadata": {
    "ExecuteTime": {
     "end_time": "2023-06-10T18:32:48.658408Z",
     "start_time": "2023-06-10T18:32:48.111285Z"
    }
   },
   "outputs": [
    {
     "name": "stdout",
     "output_type": "stream",
     "text": [
      "Empty DataFrame\n",
      "Columns: [account_id, date, session_count, session_duration_sec]\n",
      "Index: []\n",
      "Total number of duplicated rows in 'account_date_session' table: 0\n"
     ]
    }
   ],
   "source": [
    "# Check for duplicated rows in 'account_date_session' table\n",
    "duplicates_account_date_session = df_account_date_session.duplicated()\n",
    "\n",
    "# Count the number of duplicated rows\n",
    "num_duplicates_account_date_session = duplicates_account_date_session.sum()\n",
    "\n",
    "# Display the duplicated rows\n",
    "duplicated_rows = df_account_date_session[duplicates_account_date_session]\n",
    "print(duplicated_rows)\n",
    "\n",
    "# Print the total number of duplicated rows\n",
    "print(\"Total number of duplicated rows in 'account_date_session' table:\", num_duplicates_account_date_session)\n"
   ]
  },
  {
   "cell_type": "markdown",
   "id": "b67267f1",
   "metadata": {},
   "source": [
    "## Dataframe \"iap_purchase\""
   ]
  },
  {
   "cell_type": "code",
   "execution_count": 9,
   "id": "d52252c5",
   "metadata": {
    "ExecuteTime": {
     "end_time": "2023-06-10T18:32:48.695451Z",
     "start_time": "2023-06-10T18:32:48.660341Z"
    },
    "scrolled": false
   },
   "outputs": [
    {
     "name": "stdout",
     "output_type": "stream",
     "text": [
      "<class 'pandas.core.frame.DataFrame'>\n",
      "RangeIndex: 9909 entries, 0 to 9908\n",
      "Data columns (total 5 columns):\n",
      " #   Column               Non-Null Count  Dtype \n",
      "---  ------               --------------  ----- \n",
      " 0   account_id           9909 non-null   object\n",
      " 1   created_time         9909 non-null   object\n",
      " 2   package_id_hash      9909 non-null   object\n",
      " 3   iap_price_usd_cents  9909 non-null   int64 \n",
      " 4   app_store_id         9909 non-null   int64 \n",
      "dtypes: int64(2), object(3)\n",
      "memory usage: 387.2+ KB\n"
     ]
    }
   ],
   "source": [
    "# Overall \"iap_purchase\" dataframe \n",
    "df_iap_purchase.info()"
   ]
  },
  {
   "cell_type": "code",
   "execution_count": 10,
   "id": "64a77a23",
   "metadata": {
    "ExecuteTime": {
     "end_time": "2023-06-10T18:32:48.710809Z",
     "start_time": "2023-06-10T18:32:48.698451Z"
    },
    "scrolled": true
   },
   "outputs": [
    {
     "data": {
      "text/html": [
       "<div>\n",
       "<style scoped>\n",
       "    .dataframe tbody tr th:only-of-type {\n",
       "        vertical-align: middle;\n",
       "    }\n",
       "\n",
       "    .dataframe tbody tr th {\n",
       "        vertical-align: top;\n",
       "    }\n",
       "\n",
       "    .dataframe thead th {\n",
       "        text-align: right;\n",
       "    }\n",
       "</style>\n",
       "<table border=\"1\" class=\"dataframe\">\n",
       "  <thead>\n",
       "    <tr style=\"text-align: right;\">\n",
       "      <th></th>\n",
       "      <th>account_id</th>\n",
       "      <th>created_time</th>\n",
       "      <th>package_id_hash</th>\n",
       "      <th>iap_price_usd_cents</th>\n",
       "      <th>app_store_id</th>\n",
       "    </tr>\n",
       "  </thead>\n",
       "  <tbody>\n",
       "    <tr>\n",
       "      <th>0</th>\n",
       "      <td>30077202816</td>\n",
       "      <td>2016-03-26 23:59:59.355</td>\n",
       "      <td>ae0253c27c34edd1ab4fe21d6bfc91f8</td>\n",
       "      <td>739</td>\n",
       "      <td>0</td>\n",
       "    </tr>\n",
       "    <tr>\n",
       "      <th>1</th>\n",
       "      <td>30077202816</td>\n",
       "      <td>2016-05-31 11:24:37.283</td>\n",
       "      <td>dd4c1bda4f2c904075fb2fbfcf30f30e</td>\n",
       "      <td>369</td>\n",
       "      <td>0</td>\n",
       "    </tr>\n",
       "    <tr>\n",
       "      <th>2</th>\n",
       "      <td>21487283560</td>\n",
       "      <td>2016-02-13 03:40:28.644</td>\n",
       "      <td>99a9e0e63efa2fdce8fc8de74c66cea9</td>\n",
       "      <td>184</td>\n",
       "      <td>0</td>\n",
       "    </tr>\n",
       "    <tr>\n",
       "      <th>3</th>\n",
       "      <td>21487152816</td>\n",
       "      <td>2016-02-28 00:53:26.678</td>\n",
       "      <td>99a9e0e63efa2fdce8fc8de74c66cea9</td>\n",
       "      <td>184</td>\n",
       "      <td>0</td>\n",
       "    </tr>\n",
       "    <tr>\n",
       "      <th>4</th>\n",
       "      <td>8602037685</td>\n",
       "      <td>2016-02-11 01:03:04.727</td>\n",
       "      <td>99a9e0e63efa2fdce8fc8de74c66cea9</td>\n",
       "      <td>184</td>\n",
       "      <td>0</td>\n",
       "    </tr>\n",
       "  </tbody>\n",
       "</table>\n",
       "</div>"
      ],
      "text/plain": [
       "    account_id             created_time                   package_id_hash  \\\n",
       "0  30077202816  2016-03-26 23:59:59.355  ae0253c27c34edd1ab4fe21d6bfc91f8   \n",
       "1  30077202816  2016-05-31 11:24:37.283  dd4c1bda4f2c904075fb2fbfcf30f30e   \n",
       "2  21487283560  2016-02-13 03:40:28.644  99a9e0e63efa2fdce8fc8de74c66cea9   \n",
       "3  21487152816  2016-02-28 00:53:26.678  99a9e0e63efa2fdce8fc8de74c66cea9   \n",
       "4   8602037685  2016-02-11 01:03:04.727  99a9e0e63efa2fdce8fc8de74c66cea9   \n",
       "\n",
       "   iap_price_usd_cents  app_store_id  \n",
       "0                  739             0  \n",
       "1                  369             0  \n",
       "2                  184             0  \n",
       "3                  184             0  \n",
       "4                  184             0  "
      ]
     },
     "execution_count": 10,
     "metadata": {},
     "output_type": "execute_result"
    }
   ],
   "source": [
    "df_iap_purchase.head()"
   ]
  },
  {
   "cell_type": "code",
   "execution_count": 11,
   "id": "717f9483",
   "metadata": {
    "ExecuteTime": {
     "end_time": "2023-06-10T18:32:48.754308Z",
     "start_time": "2023-06-10T18:32:48.712808Z"
    },
    "scrolled": false
   },
   "outputs": [
    {
     "data": {
      "text/html": [
       "<div>\n",
       "<style scoped>\n",
       "    .dataframe tbody tr th:only-of-type {\n",
       "        vertical-align: middle;\n",
       "    }\n",
       "\n",
       "    .dataframe tbody tr th {\n",
       "        vertical-align: top;\n",
       "    }\n",
       "\n",
       "    .dataframe thead th {\n",
       "        text-align: right;\n",
       "    }\n",
       "</style>\n",
       "<table border=\"1\" class=\"dataframe\">\n",
       "  <thead>\n",
       "    <tr style=\"text-align: right;\">\n",
       "      <th></th>\n",
       "      <th>account_id</th>\n",
       "      <th>created_time</th>\n",
       "      <th>package_id_hash</th>\n",
       "      <th>iap_price_usd_cents</th>\n",
       "      <th>app_store_id</th>\n",
       "      <th>date</th>\n",
       "      <th>time</th>\n",
       "    </tr>\n",
       "  </thead>\n",
       "  <tbody>\n",
       "    <tr>\n",
       "      <th>0</th>\n",
       "      <td>30077202816</td>\n",
       "      <td>2016-03-26 23:59:59.355</td>\n",
       "      <td>ae0253c27c34edd1ab4fe21d6bfc91f8</td>\n",
       "      <td>739</td>\n",
       "      <td>0</td>\n",
       "      <td>2016-03-26</td>\n",
       "      <td>23:59:59.355000</td>\n",
       "    </tr>\n",
       "    <tr>\n",
       "      <th>1</th>\n",
       "      <td>30077202816</td>\n",
       "      <td>2016-05-31 11:24:37.283</td>\n",
       "      <td>dd4c1bda4f2c904075fb2fbfcf30f30e</td>\n",
       "      <td>369</td>\n",
       "      <td>0</td>\n",
       "      <td>2016-05-31</td>\n",
       "      <td>11:24:37.283000</td>\n",
       "    </tr>\n",
       "    <tr>\n",
       "      <th>2</th>\n",
       "      <td>21487283560</td>\n",
       "      <td>2016-02-13 03:40:28.644</td>\n",
       "      <td>99a9e0e63efa2fdce8fc8de74c66cea9</td>\n",
       "      <td>184</td>\n",
       "      <td>0</td>\n",
       "      <td>2016-02-13</td>\n",
       "      <td>03:40:28.644000</td>\n",
       "    </tr>\n",
       "    <tr>\n",
       "      <th>3</th>\n",
       "      <td>21487152816</td>\n",
       "      <td>2016-02-28 00:53:26.678</td>\n",
       "      <td>99a9e0e63efa2fdce8fc8de74c66cea9</td>\n",
       "      <td>184</td>\n",
       "      <td>0</td>\n",
       "      <td>2016-02-28</td>\n",
       "      <td>00:53:26.678000</td>\n",
       "    </tr>\n",
       "    <tr>\n",
       "      <th>4</th>\n",
       "      <td>8602037685</td>\n",
       "      <td>2016-02-11 01:03:04.727</td>\n",
       "      <td>99a9e0e63efa2fdce8fc8de74c66cea9</td>\n",
       "      <td>184</td>\n",
       "      <td>0</td>\n",
       "      <td>2016-02-11</td>\n",
       "      <td>01:03:04.727000</td>\n",
       "    </tr>\n",
       "  </tbody>\n",
       "</table>\n",
       "</div>"
      ],
      "text/plain": [
       "    account_id            created_time                   package_id_hash  \\\n",
       "0  30077202816 2016-03-26 23:59:59.355  ae0253c27c34edd1ab4fe21d6bfc91f8   \n",
       "1  30077202816 2016-05-31 11:24:37.283  dd4c1bda4f2c904075fb2fbfcf30f30e   \n",
       "2  21487283560 2016-02-13 03:40:28.644  99a9e0e63efa2fdce8fc8de74c66cea9   \n",
       "3  21487152816 2016-02-28 00:53:26.678  99a9e0e63efa2fdce8fc8de74c66cea9   \n",
       "4   8602037685 2016-02-11 01:03:04.727  99a9e0e63efa2fdce8fc8de74c66cea9   \n",
       "\n",
       "   iap_price_usd_cents  app_store_id        date             time  \n",
       "0                  739             0  2016-03-26  23:59:59.355000  \n",
       "1                  369             0  2016-05-31  11:24:37.283000  \n",
       "2                  184             0  2016-02-13  03:40:28.644000  \n",
       "3                  184             0  2016-02-28  00:53:26.678000  \n",
       "4                  184             0  2016-02-11  01:03:04.727000  "
      ]
     },
     "execution_count": 11,
     "metadata": {},
     "output_type": "execute_result"
    }
   ],
   "source": [
    "# Convert the 'created_time' column to datetime type\n",
    "df_iap_purchase['created_time'] = pd.to_datetime(df_iap_purchase['created_time'], format=\"%Y-%m-%d %H:%M:%S.%f\")\n",
    "\n",
    "# Split the 'created_time' column into 'date' and 'time' columns\n",
    "df_iap_purchase['date'] = df_iap_purchase['created_time'].dt.date\n",
    "df_iap_purchase['time'] = df_iap_purchase['created_time'].dt.time\n",
    "df_iap_purchase.head()"
   ]
  },
  {
   "cell_type": "code",
   "execution_count": 12,
   "id": "8356352f",
   "metadata": {
    "ExecuteTime": {
     "end_time": "2023-06-10T18:32:48.786162Z",
     "start_time": "2023-06-10T18:32:48.762154Z"
    }
   },
   "outputs": [
    {
     "name": "stdout",
     "output_type": "stream",
     "text": [
      "Empty DataFrame\n",
      "Columns: [account_id, created_time, package_id_hash, iap_price_usd_cents, app_store_id, date, time]\n",
      "Index: []\n",
      "Total number of duplicated rows in 'df_iap_purchase' table: 0\n"
     ]
    }
   ],
   "source": [
    "# Check for duplicated rows in 'df_iap_purchase' table\n",
    "duplicates_df_iap_purchase = df_iap_purchase.duplicated()\n",
    "\n",
    "# Count the number of duplicated rows\n",
    "num_duplicates_df_iap_purchase = duplicates_df_iap_purchase.sum()\n",
    "\n",
    "# Display the duplicated rows\n",
    "duplicated_rows = df_iap_purchase[duplicates_df_iap_purchase]\n",
    "print(duplicated_rows)\n",
    "\n",
    "# Print the total number of duplicated rows\n",
    "print(\"Total number of duplicated rows in 'df_iap_purchase' table:\", num_duplicates_df_iap_purchase)"
   ]
  },
  {
   "cell_type": "markdown",
   "id": "23ec539c",
   "metadata": {},
   "source": [
    "# TASK 1"
   ]
  },
  {
   "cell_type": "markdown",
   "id": "5c6f4205",
   "metadata": {},
   "source": [
    "## Lifetime Value (LTV) Analysis"
   ]
  },
  {
   "cell_type": "markdown",
   "id": "02d22feb",
   "metadata": {},
   "source": [
    "Define Lifetime Value (LTV):\n",
    "\n",
    "Lifetime revenue refers to the total revenue generated by a player over the course of their entire gameplay experience. It represents the cumulative amount of money spent by a player on in-app purchases or any other revenue-generating activities within the game."
   ]
  },
  {
   "cell_type": "markdown",
   "id": "b42c5c77",
   "metadata": {},
   "source": [
    "## Proportion of lifetime revenue generated in the first week"
   ]
  },
  {
   "cell_type": "markdown",
   "id": "5e17da34",
   "metadata": {},
   "source": [
    "To calculate the proportion of lifetime revenue generated in the player's first week, we need to analyze the \"iap_purchase\" table and consider the time of the purchases relative to the player's account creation date.\n",
    "\n",
    "Let's start by merging the \"df_account\" and \"df_iap_purchase\" DataFrames based on the account_id:"
   ]
  },
  {
   "cell_type": "code",
   "execution_count": 13,
   "id": "4a30676e",
   "metadata": {
    "ExecuteTime": {
     "end_time": "2023-06-10T18:32:48.885843Z",
     "start_time": "2023-06-10T18:32:48.792337Z"
    },
    "scrolled": true
   },
   "outputs": [
    {
     "data": {
      "text/html": [
       "<div>\n",
       "<style scoped>\n",
       "    .dataframe tbody tr th:only-of-type {\n",
       "        vertical-align: middle;\n",
       "    }\n",
       "\n",
       "    .dataframe tbody tr th {\n",
       "        vertical-align: top;\n",
       "    }\n",
       "\n",
       "    .dataframe thead th {\n",
       "        text-align: right;\n",
       "    }\n",
       "</style>\n",
       "<table border=\"1\" class=\"dataframe\">\n",
       "  <thead>\n",
       "    <tr style=\"text-align: right;\">\n",
       "      <th></th>\n",
       "      <th>account_id</th>\n",
       "      <th>created_time_x</th>\n",
       "      <th>created_device</th>\n",
       "      <th>created_platform</th>\n",
       "      <th>country_code</th>\n",
       "      <th>created_app_store_id</th>\n",
       "      <th>date_x</th>\n",
       "      <th>time_x</th>\n",
       "      <th>created_time_y</th>\n",
       "      <th>package_id_hash</th>\n",
       "      <th>iap_price_usd_cents</th>\n",
       "      <th>app_store_id</th>\n",
       "      <th>date_y</th>\n",
       "      <th>time_y</th>\n",
       "    </tr>\n",
       "  </thead>\n",
       "  <tbody>\n",
       "    <tr>\n",
       "      <th>0</th>\n",
       "      <td>13514010</td>\n",
       "      <td>2016-03-02 17:11:00.332</td>\n",
       "      <td>iPhone6,2</td>\n",
       "      <td>iOS</td>\n",
       "      <td>GB</td>\n",
       "      <td>1</td>\n",
       "      <td>2016-03-02</td>\n",
       "      <td>17:11:00.332000</td>\n",
       "      <td>2016-03-11 09:16:29.313</td>\n",
       "      <td>99a9e0e63efa2fdce8fc8de74c66cea9</td>\n",
       "      <td>184</td>\n",
       "      <td>0</td>\n",
       "      <td>2016-03-11</td>\n",
       "      <td>09:16:29.313000</td>\n",
       "    </tr>\n",
       "    <tr>\n",
       "      <th>1</th>\n",
       "      <td>14894920</td>\n",
       "      <td>2016-06-25 14:09:19.562</td>\n",
       "      <td>HUAWEI P7-L09</td>\n",
       "      <td>Android</td>\n",
       "      <td>CN</td>\n",
       "      <td>3</td>\n",
       "      <td>2016-06-25</td>\n",
       "      <td>14:09:19.562000</td>\n",
       "      <td>2016-06-29 14:47:41.680</td>\n",
       "      <td>efd2eebfdc98b55f9e6b45915d56f7ac</td>\n",
       "      <td>36</td>\n",
       "      <td>3</td>\n",
       "      <td>2016-06-29</td>\n",
       "      <td>14:47:41.680000</td>\n",
       "    </tr>\n",
       "    <tr>\n",
       "      <th>2</th>\n",
       "      <td>12365400</td>\n",
       "      <td>2016-01-02 11:18:20.305</td>\n",
       "      <td>iPhone8,1</td>\n",
       "      <td>iOS</td>\n",
       "      <td>CN</td>\n",
       "      <td>1</td>\n",
       "      <td>2016-01-02</td>\n",
       "      <td>11:18:20.305000</td>\n",
       "      <td>2016-09-16 13:08:40.206</td>\n",
       "      <td>efd2eebfdc98b55f9e6b45915d56f7ac</td>\n",
       "      <td>36</td>\n",
       "      <td>10</td>\n",
       "      <td>2016-09-16</td>\n",
       "      <td>13:08:40.206000</td>\n",
       "    </tr>\n",
       "    <tr>\n",
       "      <th>3</th>\n",
       "      <td>12365400</td>\n",
       "      <td>2016-01-02 11:18:20.305</td>\n",
       "      <td>iPhone8,1</td>\n",
       "      <td>iOS</td>\n",
       "      <td>CN</td>\n",
       "      <td>1</td>\n",
       "      <td>2016-01-02</td>\n",
       "      <td>11:18:20.305000</td>\n",
       "      <td>2016-09-18 09:49:06.686</td>\n",
       "      <td>99a9e0e63efa2fdce8fc8de74c66cea9</td>\n",
       "      <td>184</td>\n",
       "      <td>10</td>\n",
       "      <td>2016-09-18</td>\n",
       "      <td>09:49:06.686000</td>\n",
       "    </tr>\n",
       "    <tr>\n",
       "      <th>4</th>\n",
       "      <td>12365400</td>\n",
       "      <td>2016-01-02 11:18:20.305</td>\n",
       "      <td>iPhone8,1</td>\n",
       "      <td>iOS</td>\n",
       "      <td>CN</td>\n",
       "      <td>1</td>\n",
       "      <td>2016-01-02</td>\n",
       "      <td>11:18:20.305000</td>\n",
       "      <td>2016-09-20 07:49:32.397</td>\n",
       "      <td>99a9e0e63efa2fdce8fc8de74c66cea9</td>\n",
       "      <td>184</td>\n",
       "      <td>10</td>\n",
       "      <td>2016-09-20</td>\n",
       "      <td>07:49:32.397000</td>\n",
       "    </tr>\n",
       "  </tbody>\n",
       "</table>\n",
       "</div>"
      ],
      "text/plain": [
       "  account_id          created_time_x created_device created_platform  \\\n",
       "0   13514010 2016-03-02 17:11:00.332      iPhone6,2              iOS   \n",
       "1   14894920 2016-06-25 14:09:19.562  HUAWEI P7-L09          Android   \n",
       "2   12365400 2016-01-02 11:18:20.305      iPhone8,1              iOS   \n",
       "3   12365400 2016-01-02 11:18:20.305      iPhone8,1              iOS   \n",
       "4   12365400 2016-01-02 11:18:20.305      iPhone8,1              iOS   \n",
       "\n",
       "  country_code  created_app_store_id      date_x           time_x  \\\n",
       "0           GB                     1  2016-03-02  17:11:00.332000   \n",
       "1           CN                     3  2016-06-25  14:09:19.562000   \n",
       "2           CN                     1  2016-01-02  11:18:20.305000   \n",
       "3           CN                     1  2016-01-02  11:18:20.305000   \n",
       "4           CN                     1  2016-01-02  11:18:20.305000   \n",
       "\n",
       "           created_time_y                   package_id_hash  \\\n",
       "0 2016-03-11 09:16:29.313  99a9e0e63efa2fdce8fc8de74c66cea9   \n",
       "1 2016-06-29 14:47:41.680  efd2eebfdc98b55f9e6b45915d56f7ac   \n",
       "2 2016-09-16 13:08:40.206  efd2eebfdc98b55f9e6b45915d56f7ac   \n",
       "3 2016-09-18 09:49:06.686  99a9e0e63efa2fdce8fc8de74c66cea9   \n",
       "4 2016-09-20 07:49:32.397  99a9e0e63efa2fdce8fc8de74c66cea9   \n",
       "\n",
       "   iap_price_usd_cents  app_store_id      date_y           time_y  \n",
       "0                  184             0  2016-03-11  09:16:29.313000  \n",
       "1                   36             3  2016-06-29  14:47:41.680000  \n",
       "2                   36            10  2016-09-16  13:08:40.206000  \n",
       "3                  184            10  2016-09-18  09:49:06.686000  \n",
       "4                  184            10  2016-09-20  07:49:32.397000  "
      ]
     },
     "execution_count": 13,
     "metadata": {},
     "output_type": "execute_result"
    }
   ],
   "source": [
    "# Merge df_account and df_iap_purchase on 'account_id'\n",
    "merged_df = pd.merge(df_account, df_iap_purchase, on='account_id', how='inner')\n",
    "merged_df.head()\n"
   ]
  },
  {
   "cell_type": "code",
   "execution_count": 14,
   "id": "f95156be",
   "metadata": {
    "ExecuteTime": {
     "end_time": "2023-06-10T18:32:48.908424Z",
     "start_time": "2023-06-10T18:32:48.888845Z"
    }
   },
   "outputs": [],
   "source": [
    "# Calculate the time difference between account creation and purchase\n",
    "merged_df['purchase_time_since_creation'] = merged_df['created_time_y'] - merged_df['created_time_x']"
   ]
  },
  {
   "cell_type": "code",
   "execution_count": 15,
   "id": "9f2f1746",
   "metadata": {
    "ExecuteTime": {
     "end_time": "2023-06-10T18:32:48.924430Z",
     "start_time": "2023-06-10T18:32:48.910423Z"
    },
    "scrolled": true
   },
   "outputs": [
    {
     "name": "stdout",
     "output_type": "stream",
     "text": [
      "LTV ($): 42518.62\n",
      "The proportion of lifetime revenue generated in the player's first week : 0.1796036654058857\n"
     ]
    }
   ],
   "source": [
    "# Add a new column 'iap_price_usd' for USD conversion\n",
    "merged_df['iap_price_usd'] = merged_df['iap_price_usd_cents'] / 100\n",
    "\n",
    "# Filter purchases made within the first week\n",
    "first_week_purchases = merged_df[merged_df['purchase_time_since_creation'] <= pd.Timedelta(days=7)]\n",
    "\n",
    "# Calculate the total revenue generated in the first week\n",
    "first_week_revenue = first_week_purchases['iap_price_usd'].sum()\n",
    "\n",
    "# Calculate the total lifetime revenue\n",
    "total_lifetime_revenue = merged_df['iap_price_usd'].sum()\n",
    "\n",
    "# Calculate the proportion of lifetime revenue generated in the player's first week\n",
    "proportion_first_week_revenue = first_week_revenue / total_lifetime_revenue\n",
    "\n",
    "# Print the LTV\n",
    "print(\"LTV ($):\", total_lifetime_revenue)\n",
    "\n",
    "# Print the proportion of lifetime revenue generated in the player's first week\n",
    "print(\"The proportion of lifetime revenue generated in the player's first week :\", proportion_first_week_revenue)\n"
   ]
  },
  {
   "cell_type": "code",
   "execution_count": 16,
   "id": "aec8f3bd",
   "metadata": {
    "ExecuteTime": {
     "end_time": "2023-06-10T18:32:48.941596Z",
     "start_time": "2023-06-10T18:32:48.926423Z"
    }
   },
   "outputs": [],
   "source": [
    "# Extract month from the 'date_x' column\n",
    "merged_df['month'] = pd.to_datetime(merged_df['date_x']).dt.month\n",
    "\n",
    "# Group purchases by month and calculate total revenue ($)\n",
    "revenue_by_month = merged_df.groupby('month')['iap_price_usd'].sum()\n"
   ]
  },
  {
   "cell_type": "code",
   "execution_count": 17,
   "id": "65a164f0",
   "metadata": {
    "ExecuteTime": {
     "end_time": "2023-06-10T18:32:49.131780Z",
     "start_time": "2023-06-10T18:32:48.942909Z"
    },
    "scrolled": true
   },
   "outputs": [
    {
     "data": {
      "image/png": "[encoded data removed]",
      "text/plain": [
       "<Figure size 1000x300 with 1 Axes>"
      ]
     },
     "metadata": {},
     "output_type": "display_data"
    }
   ],
   "source": [
    "import matplotlib.pyplot as plt\n",
    "\n",
    "# Create a line plot to visualize the revenue trend in 2016\n",
    "plt.figure(figsize=(10, 3))\n",
    "plt.plot(revenue_by_month.index, revenue_by_month.values)\n",
    "plt.xlabel('Month')\n",
    "plt.ylabel('Total Revenue ($)')\n",
    "plt.title('Monthly Revenue Trend in 2016')\n",
    "\n",
    "# Add data labels for specific months (1, 3, 6, 9, 12)\n",
    "for i, revenue in enumerate(revenue_by_month):\n",
    "    if i+1 in [1, 3, 6, 9, 12]:\n",
    "        plt.text(i+1, revenue, str(round(revenue, 2)), ha='center', va='bottom')\n",
    "\n",
    "plt.show()\n"
   ]
  },
  {
   "cell_type": "markdown",
   "id": "342d267d",
   "metadata": {},
   "source": [
    "## Conclusion TASK 1"
   ]
  },
  {
   "cell_type": "markdown",
   "id": "ad2b1497",
   "metadata": {},
   "source": [
    "Based on the outcome of analysis and the observed revenue trend in 2016, we can draw the following conclusions:\n",
    "\n",
    "1. **Lifetime Value (LTV):** The LTV for the 2016 is **$4,251,862**. LTV represents the total value generated by players over their lifetime engagement with the game. It provides an important metric to evaluate the overall financial performance and player contribution.\n",
    "\n",
    "2. **Proportion of Revenue in the Player's First Week:** The proportion of lifetime revenue generated in the player's first week in 2016 is approximately 17.96%. This indicates that a significant portion of the total revenue earned over the player's lifetime was generated within their initial week of gameplay.\n",
    "\n",
    "3. **Revenue Trend:** The line plot visualizes the revenue trend in 2016, showing the total revenue for each month. From the plot, it can be observed that the revenue decreased from January to December 2016.\n",
    "\n",
    "4. **Decreasing Revenue Trend:** The decreasing revenue trend indicates a potential decline in player engagement and monetization over the course of the year. This may be attributed to various factors such as changes in player behavior, market competition, or shifts in monetization strategies.\n",
    "\n",
    "5. **Strategic Considerations:** To address the decreasing revenue trend, it is important to analyze the underlying factors and implement strategic interventions. This could involve initiatives such as improving player retention, enhancing monetization strategies, introducing new content or features, or exploring marketing opportunities.\n",
    "\n",
    "In conclusion, the analysis of revenue trends in 2016 reveals a decreasing trend from January to December. This highlights the need for proactive measures and strategic considerations to address the revenue decline and ensure sustained financial success. The insights gained from the LTV and the proportion of revenue in the player's first week provide valuable information for making informed decisions and optimizing the game's financial performance.\n",
    "\n"
   ]
  },
  {
   "cell_type": "markdown",
   "id": "0b74f062",
   "metadata": {},
   "source": [
    "# TASK 2"
   ]
  },
  {
   "cell_type": "markdown",
   "id": "98e7c542",
   "metadata": {},
   "source": [
    "## User Acquisition Analysis"
   ]
  },
  {
   "cell_type": "markdown",
   "id": "6a81bafd",
   "metadata": {},
   "source": [
    "### Analysis"
   ]
  },
  {
   "cell_type": "markdown",
   "id": "ecfc918e",
   "metadata": {},
   "source": [
    "In this section, we will analyze user acquisition to understand how users were acquired and their characteristics. Perform the following tasks:"
   ]
  },
  {
   "cell_type": "code",
   "execution_count": 18,
   "id": "94383dda",
   "metadata": {
    "ExecuteTime": {
     "end_time": "2023-06-10T18:32:49.256283Z",
     "start_time": "2023-06-10T18:32:49.131780Z"
    }
   },
   "outputs": [
    {
     "name": "stdout",
     "output_type": "stream",
     "text": [
      "<class 'pandas.core.frame.DataFrame'>\n",
      "RangeIndex: 112792 entries, 0 to 112791\n",
      "Data columns (total 9 columns):\n",
      " #   Column                Non-Null Count   Dtype         \n",
      "---  ------                --------------   -----         \n",
      " 0   account_id            112792 non-null  object        \n",
      " 1   created_time          112792 non-null  datetime64[ns]\n",
      " 2   created_device        112792 non-null  object        \n",
      " 3   created_platform      112792 non-null  object        \n",
      " 4   country_code          112685 non-null  object        \n",
      " 5   created_app_store_id  112792 non-null  int64         \n",
      " 6   date                  112792 non-null  object        \n",
      " 7   time                  112792 non-null  object        \n",
      " 8   with_transactions     112792 non-null  object        \n",
      "dtypes: datetime64[ns](1), int64(1), object(7)\n",
      "memory usage: 7.7+ MB\n"
     ]
    }
   ],
   "source": [
    "# Check if account_id exists in df_iap_purchase\n",
    "df_account['with_transactions'] = df_account['account_id'].isin(df_iap_purchase['account_id'])\n",
    "\n",
    "# Assign 'yes' to accounts with transactions and 'no' to accounts without transactions\n",
    "df_account['with_transactions'] = df_account['with_transactions'].map({True: 'yes', False: 'no'})\n",
    "\n",
    "df_account.info()"
   ]
  },
  {
   "cell_type": "code",
   "execution_count": 19,
   "id": "188dd288",
   "metadata": {
    "ExecuteTime": {
     "end_time": "2023-06-10T18:32:49.374448Z",
     "start_time": "2023-06-10T18:32:49.256283Z"
    }
   },
   "outputs": [
    {
     "name": "stdout",
     "output_type": "stream",
     "text": [
      "The number of account created in 2016 is 112792\n"
     ]
    }
   ],
   "source": [
    "account_counts = df_account['account_id'].value_counts().sum()\n",
    "print('The number of account created in 2016 is', account_counts)"
   ]
  },
  {
   "cell_type": "code",
   "execution_count": 20,
   "id": "e78dd818",
   "metadata": {
    "ExecuteTime": {
     "end_time": "2023-06-10T18:32:49.800966Z",
     "start_time": "2023-06-10T18:32:49.376899Z"
    },
    "code_folding": [],
    "scrolled": false
   },
   "outputs": [
    {
     "data": {
      "image/png": "[encoded data removed]",
      "text/plain": [
       "<Figure size 800x500 with 1 Axes>"
      ]
     },
     "metadata": {},
     "output_type": "display_data"
    },
    {
     "name": "stdout",
     "output_type": "stream",
     "text": [
      "created_platform\n",
      "Android    0.012477\n",
      "iOS        0.019378\n",
      "dtype: float64\n"
     ]
    }
   ],
   "source": [
    "# Analyze created_platform columns\n",
    "platform_counts = df_account.groupby(['created_platform', 'with_transactions']).size().unstack(fill_value=0)\n",
    "\n",
    "# Plot the most common platforms using sns.countplot\n",
    "plt.figure(figsize=(8, 5))\n",
    "sns.countplot(x=df_account['created_platform'],hue=df_account['with_transactions'])\n",
    "plt.xlabel('Platform')\n",
    "plt.ylabel('Count')\n",
    "plt.title('Most Common Platforms')\n",
    "plt.legend(title='Transaction Status')\n",
    "plt.show()\n",
    "\n",
    "# Calculate the transaction rates based on created_platform\n",
    "transaction_rates = platform_counts['yes'] / platform_counts.sum(axis=1)\n",
    "\n",
    "# Print the transaction rates\n",
    "print(transaction_rates)"
   ]
  },
  {
   "cell_type": "code",
   "execution_count": 21,
   "id": "5c356987",
   "metadata": {
    "ExecuteTime": {
     "end_time": "2023-06-10T18:32:50.063615Z",
     "start_time": "2023-06-10T18:32:49.801800Z"
    },
    "scrolled": false
   },
   "outputs": [
    {
     "data": {
      "image/png": "[encoded data removed]",
      "text/plain": [
       "<Figure size 800x500 with 1 Axes>"
      ]
     },
     "metadata": {},
     "output_type": "display_data"
    }
   ],
   "source": [
    "# Analyze country_code column\n",
    "country_counts = df_account['country_code'].value_counts()\n",
    "\n",
    "# Convert to DataFrame\n",
    "country_counts_df = country_counts.head(10).reset_index()\n",
    "country_counts_df.columns = ['Country', 'Count']\n",
    "\n",
    "# Plot top 10 countries with the highest number of players\n",
    "plt.figure(figsize=(8, 5))\n",
    "ax = sns.barplot(x='Country', y='Count', data=country_counts_df)\n",
    "plt.xlabel('Country')\n",
    "plt.ylabel('Count')\n",
    "plt.title('Top 10 Countries with Highest Number of Players')\n",
    "\n",
    "# Display values on the chart\n",
    "for i, count in enumerate(country_counts_df['Count']):\n",
    "    ax.text(i, count, str(count), ha='center', va='bottom')\n",
    "\n",
    "plt.show()\n"
   ]
  },
  {
   "cell_type": "code",
   "execution_count": 22,
   "id": "d2e19d7d",
   "metadata": {
    "ExecuteTime": {
     "end_time": "2023-06-10T18:32:50.334496Z",
     "start_time": "2023-06-10T18:32:50.065112Z"
    }
   },
   "outputs": [
    {
     "data": {
      "image/png": "[encoded data removed]",
      "text/plain": [
       "<Figure size 800x500 with 1 Axes>"
      ]
     },
     "metadata": {},
     "output_type": "display_data"
    }
   ],
   "source": [
    "# Group the data by country_code and sum the iap_price_usd_cents\n",
    "country_spending = merged_df.groupby('country_code')['iap_price_usd'].sum()\n",
    "\n",
    "# Sort the countries by spending in descending order and take the top 10\n",
    "top_spending_countries = country_spending.nlargest(10)\n",
    "\n",
    "# Convert to DataFrame\n",
    "top_spending_countries_df = top_spending_countries.reset_index()\n",
    "top_spending_countries_df.columns = ['Country', 'Total Spending']\n",
    "\n",
    "# Plot top 10 countries with the highest spending\n",
    "plt.figure(figsize=(8, 5))\n",
    "ax = sns.barplot(x='Country', y='Total Spending', data=top_spending_countries_df)\n",
    "plt.xlabel('Country')\n",
    "plt.ylabel('Total Spending')\n",
    "plt.title('Top 10 Countries with Highest Spending')\n",
    "\n",
    "# Display values on the chart\n",
    "for i, spending in enumerate(top_spending_countries_df['Total Spending']):\n",
    "    ax.text(i, spending, str(round(spending,2)), ha='center', va='bottom')\n",
    "\n",
    "plt.show()\n"
   ]
  },
  {
   "cell_type": "code",
   "execution_count": 23,
   "id": "76d155f4",
   "metadata": {
    "ExecuteTime": {
     "end_time": "2023-06-10T18:32:50.686876Z",
     "start_time": "2023-06-10T18:32:50.334496Z"
    }
   },
   "outputs": [
    {
     "data": {
      "image/png": "[encoded data removed]",
      "text/plain": [
       "<Figure size 800x500 with 1 Axes>"
      ]
     },
     "metadata": {},
     "output_type": "display_data"
    }
   ],
   "source": [
    "# Convert 'date' column to datetime type\n",
    "df_account['date'] = pd.to_datetime(df_account['date'])\n",
    "\n",
    "# Calculate the total number of new accounts created each month\n",
    "df_account['month'] = df_account['date'].dt.month\n",
    "monthly_new_accounts = df_account.groupby('month')['account_id'].count().reset_index()\n",
    "\n",
    "# Plot the trend of new accounts over time\n",
    "plt.figure(figsize=(8, 5))\n",
    "ax = sns.lineplot(x='month', y='account_id', data=monthly_new_accounts, marker='o')\n",
    "plt.xlabel('Month')\n",
    "plt.ylabel('Number of New Accounts')\n",
    "plt.title('Trend of New Accounts Over Time')\n",
    "plt.xticks(monthly_new_accounts['month'])\n",
    "\n",
    "# Display values on the chart\n",
    "for i, count in enumerate(monthly_new_accounts['account_id']):\n",
    "    ax.text(i, count, str(count), ha='center', va='bottom')\n",
    "\n",
    "plt.show()\n"
   ]
  },
  {
   "cell_type": "markdown",
   "id": "c3e554d4",
   "metadata": {},
   "source": [
    "### Conclusion"
   ]
  },
  {
   "cell_type": "markdown",
   "id": "b6a82b5e",
   "metadata": {},
   "source": [
    "\n",
    "1. **The number of accounts created in 2016 is 112,792**: \n",
    "- Reflecting the user acquisition efforts during that year.\n",
    "The Android platform had a significantly higher user count compared to the iOS platform, with approximately 4 times more accounts created.\n",
    "\n",
    "2. **Geographic Distribution and Revenue**\n",
    "- China (CN) emerged as the leading country with the highest number of players, accounting for almost 40K players. The United States (US) ranked second with over than 10K players. That is 2 countries has the most revenue with top 1 revenue is United States (US) `$`13,148.18 and top 2 is China (CN) with `$`11,365.07. Demonstrating substantial player engagement and contribution from these country.\n",
    "- South Korea (KR) and France (FR) also have significant numbers of account creations and revenue, showcasing strong growth in the gaming market in these countries.\n",
    "- Other countries in the top 10 leading country with the highest number of players , including Turkey (TR), France (FR), Russia (RU), South Korea (KR), India (IN), Brazil (BR), Germany (DE), and the United Kingdom (GB), also had notable player counts ranging more than 2K.\n",
    "- The player count in China was approximately 4 times higher than the player count in the United States, indicating a significant disparity between the top two countries. The lowest player count among the top 10 countries, Germany (DE), was nearly 20 times lower than China's count.\n",
    "\n",
    "\n",
    "3. **Trend Analysis**\n",
    "- The trend of new account creation varied throughout the year, with a noticeable decline in certain months. This suggests a potential decrease in user acquisition or a saturated market during those periods.\n",
    "- The decline in the number of new accounts created can have implications for revenue generation, as it indicates a smaller pool of potential players joining the game.\n",
    "- With fewer new players entering the game, there may be reduced opportunities for monetization and engagement, leading to a downward trend in revenue.\n",
    "\n",
    "**Overall, this analysis provides insights into user acquisition and player distribution across different countries. The significant difference in player counts between China and other countries highlights the importance of understanding market dynamics and tailoring strategies accordingly. The declining trend in new account creation raises concerns about future revenue generation, emphasizing the need for further investigation and strategic adjustments to address the challenges faced in user acquisition and revenue growth.**"
   ]
  },
  {
   "cell_type": "markdown",
   "id": "8c44102e",
   "metadata": {},
   "source": [
    "## User Engagement Analysis"
   ]
  },
  {
   "cell_type": "markdown",
   "id": "b8d47b4b",
   "metadata": {},
   "source": [
    "### Analysis"
   ]
  },
  {
   "cell_type": "markdown",
   "id": "b22b1de0",
   "metadata": {},
   "source": [
    "Next, let's analyze user engagement to gain insights into how players interact with the game. Perform the following:"
   ]
  },
  {
   "cell_type": "code",
   "execution_count": 24,
   "id": "78151655",
   "metadata": {
    "ExecuteTime": {
     "end_time": "2023-06-10T18:32:51.872684Z",
     "start_time": "2023-06-10T18:32:50.686876Z"
    },
    "scrolled": true
   },
   "outputs": [
    {
     "data": {
      "text/html": [
       "<div>\n",
       "<style scoped>\n",
       "    .dataframe tbody tr th:only-of-type {\n",
       "        vertical-align: middle;\n",
       "    }\n",
       "\n",
       "    .dataframe tbody tr th {\n",
       "        vertical-align: top;\n",
       "    }\n",
       "\n",
       "    .dataframe thead th {\n",
       "        text-align: right;\n",
       "    }\n",
       "</style>\n",
       "<table border=\"1\" class=\"dataframe\">\n",
       "  <thead>\n",
       "    <tr style=\"text-align: right;\">\n",
       "      <th></th>\n",
       "      <th>account_id</th>\n",
       "      <th>created_time</th>\n",
       "      <th>created_device</th>\n",
       "      <th>created_platform</th>\n",
       "      <th>country_code</th>\n",
       "      <th>created_app_store_id</th>\n",
       "      <th>date_x</th>\n",
       "      <th>time</th>\n",
       "      <th>with_transactions</th>\n",
       "      <th>month</th>\n",
       "      <th>date_y</th>\n",
       "      <th>session_count</th>\n",
       "      <th>session_duration_sec</th>\n",
       "    </tr>\n",
       "  </thead>\n",
       "  <tbody>\n",
       "    <tr>\n",
       "      <th>0</th>\n",
       "      <td>68730811144</td>\n",
       "      <td>2016-01-01 03:59:52.347</td>\n",
       "      <td>SM-G900V</td>\n",
       "      <td>Android</td>\n",
       "      <td>US</td>\n",
       "      <td>2</td>\n",
       "      <td>2016-01-01</td>\n",
       "      <td>03:59:52.347000</td>\n",
       "      <td>no</td>\n",
       "      <td>1</td>\n",
       "      <td>2016-01-01</td>\n",
       "      <td>1</td>\n",
       "      <td>47</td>\n",
       "    </tr>\n",
       "    <tr>\n",
       "      <th>1</th>\n",
       "      <td>68730812806</td>\n",
       "      <td>2016-01-01 05:15:58.094</td>\n",
       "      <td>NXA116QC164</td>\n",
       "      <td>Android</td>\n",
       "      <td>US</td>\n",
       "      <td>2</td>\n",
       "      <td>2016-01-01</td>\n",
       "      <td>05:15:58.094000</td>\n",
       "      <td>no</td>\n",
       "      <td>1</td>\n",
       "      <td>2016-01-01</td>\n",
       "      <td>1</td>\n",
       "      <td>204</td>\n",
       "    </tr>\n",
       "    <tr>\n",
       "      <th>2</th>\n",
       "      <td>68730829426</td>\n",
       "      <td>2016-01-01 15:52:35.871</td>\n",
       "      <td>MotoG3</td>\n",
       "      <td>Android</td>\n",
       "      <td>CO</td>\n",
       "      <td>2</td>\n",
       "      <td>2016-01-01</td>\n",
       "      <td>15:52:35.871000</td>\n",
       "      <td>no</td>\n",
       "      <td>1</td>\n",
       "      <td>2016-01-01</td>\n",
       "      <td>12</td>\n",
       "      <td>4703</td>\n",
       "    </tr>\n",
       "    <tr>\n",
       "      <th>3</th>\n",
       "      <td>68730829426</td>\n",
       "      <td>2016-01-01 15:52:35.871</td>\n",
       "      <td>MotoG3</td>\n",
       "      <td>Android</td>\n",
       "      <td>CO</td>\n",
       "      <td>2</td>\n",
       "      <td>2016-01-01</td>\n",
       "      <td>15:52:35.871000</td>\n",
       "      <td>no</td>\n",
       "      <td>1</td>\n",
       "      <td>2016-01-02</td>\n",
       "      <td>9</td>\n",
       "      <td>4676</td>\n",
       "    </tr>\n",
       "    <tr>\n",
       "      <th>4</th>\n",
       "      <td>68730829426</td>\n",
       "      <td>2016-01-01 15:52:35.871</td>\n",
       "      <td>MotoG3</td>\n",
       "      <td>Android</td>\n",
       "      <td>CO</td>\n",
       "      <td>2</td>\n",
       "      <td>2016-01-01</td>\n",
       "      <td>15:52:35.871000</td>\n",
       "      <td>no</td>\n",
       "      <td>1</td>\n",
       "      <td>2016-01-03</td>\n",
       "      <td>9</td>\n",
       "      <td>2271</td>\n",
       "    </tr>\n",
       "  </tbody>\n",
       "</table>\n",
       "</div>"
      ],
      "text/plain": [
       "    account_id            created_time created_device created_platform  \\\n",
       "0  68730811144 2016-01-01 03:59:52.347       SM-G900V          Android   \n",
       "1  68730812806 2016-01-01 05:15:58.094    NXA116QC164          Android   \n",
       "2  68730829426 2016-01-01 15:52:35.871         MotoG3          Android   \n",
       "3  68730829426 2016-01-01 15:52:35.871         MotoG3          Android   \n",
       "4  68730829426 2016-01-01 15:52:35.871         MotoG3          Android   \n",
       "\n",
       "  country_code  created_app_store_id     date_x             time  \\\n",
       "0           US                     2 2016-01-01  03:59:52.347000   \n",
       "1           US                     2 2016-01-01  05:15:58.094000   \n",
       "2           CO                     2 2016-01-01  15:52:35.871000   \n",
       "3           CO                     2 2016-01-01  15:52:35.871000   \n",
       "4           CO                     2 2016-01-01  15:52:35.871000   \n",
       "\n",
       "  with_transactions  month      date_y  session_count  session_duration_sec  \n",
       "0                no      1  2016-01-01              1                    47  \n",
       "1                no      1  2016-01-01              1                   204  \n",
       "2                no      1  2016-01-01             12                  4703  \n",
       "3                no      1  2016-01-02              9                  4676  \n",
       "4                no      1  2016-01-03              9                  2271  "
      ]
     },
     "execution_count": 24,
     "metadata": {},
     "output_type": "execute_result"
    }
   ],
   "source": [
    "# Merge df_account and df_account_date_session on 'account_id'\n",
    "merged2_df = pd.merge(df_account, df_account_date_session, on='account_id', how='right')\n",
    "merged2_df.head()"
   ]
  },
  {
   "cell_type": "code",
   "execution_count": 25,
   "id": "bf722efd",
   "metadata": {
    "ExecuteTime": {
     "end_time": "2023-06-10T18:32:52.208962Z",
     "start_time": "2023-06-10T18:32:51.875465Z"
    }
   },
   "outputs": [
    {
     "data": {
      "text/plain": [
       "count    112451.000000\n",
       "mean         15.108572\n",
       "std          42.112038\n",
       "min           1.000000\n",
       "25%           1.000000\n",
       "50%           2.000000\n",
       "75%           7.000000\n",
       "max         366.000000\n",
       "dtype: float64"
      ]
     },
     "execution_count": 25,
     "metadata": {},
     "output_type": "execute_result"
    }
   ],
   "source": [
    "# Calculate the total number of sessions and total session duration for each account\n",
    "session_counts = merged2_df.groupby(['account_id']).size()\n",
    "session_counts.describe()"
   ]
  },
  {
   "cell_type": "code",
   "execution_count": 26,
   "id": "76f19230",
   "metadata": {
    "ExecuteTime": {
     "end_time": "2023-06-10T18:32:52.460489Z",
     "start_time": "2023-06-10T18:32:52.210883Z"
    }
   },
   "outputs": [
    {
     "data": {
      "image/png": "[encoded data removed]",
      "text/plain": [
       "<Figure size 800x600 with 1 Axes>"
      ]
     },
     "metadata": {},
     "output_type": "display_data"
    }
   ],
   "source": [
    "# Create bins for 4 categories in session count (Very Low stand for 0-1; Low stand for 1-2; Medium stand for 2-7; High stand for 7-366 times)\n",
    "bins = pd.cut(session_counts, bins=4, labels=['Very Low', 'Low', 'Medium', 'High'])\n",
    "# Plot the count of sessions in each bin\n",
    "plt.figure(figsize=(8, 6))\n",
    "sns.countplot(x=bins)\n",
    "\n",
    "# Set value labels on top of each bar\n",
    "ax = plt.gca()\n",
    "for p in ax.patches:\n",
    "    ax.annotate(f'{p.get_height()}', (p.get_x() + p.get_width() / 2, p.get_height()), ha='center', va='bottom')\n",
    "\n",
    "# Set chart title and labels\n",
    "plt.xlabel('Session Count')\n",
    "plt.ylabel('Count')\n",
    "plt.title('Distribution of Session Counts')\n",
    "plt.show()"
   ]
  },
  {
   "cell_type": "code",
   "execution_count": 27,
   "id": "8aecb35c",
   "metadata": {
    "ExecuteTime": {
     "end_time": "2023-06-10T18:32:52.821391Z",
     "start_time": "2023-06-10T18:32:52.467792Z"
    }
   },
   "outputs": [
    {
     "data": {
      "text/plain": [
       "count    112451.000000\n",
       "mean        361.156374\n",
       "std        1555.073131\n",
       "min           0.016667\n",
       "25%           1.316667\n",
       "50%          16.383333\n",
       "75%         112.283333\n",
       "max       60627.000000\n",
       "Name: session_duration_sec, dtype: float64"
      ]
     },
     "execution_count": 27,
     "metadata": {},
     "output_type": "execute_result"
    }
   ],
   "source": [
    "# Calculate the total number of sessions and total session duration for each account\n",
    "total_durations = (merged2_df.groupby('account_id')['session_duration_sec'].sum())/60\n",
    "total_durations.describe()"
   ]
  },
  {
   "cell_type": "code",
   "execution_count": 28,
   "id": "56be3ef6",
   "metadata": {
    "ExecuteTime": {
     "end_time": "2023-06-10T18:32:53.054701Z",
     "start_time": "2023-06-10T18:32:52.822854Z"
    }
   },
   "outputs": [
    {
     "data": {
      "image/png": "[encoded data removed]",
      "text/plain": [
       "<Figure size 800x600 with 1 Axes>"
      ]
     },
     "metadata": {},
     "output_type": "display_data"
    }
   ],
   "source": [
    "# Create bins for 4 categories in total duration (Very Low stand for 0-1; Low stand for 1-16; Medium stand for 16-112; High stand for 112-60627 minutes)\n",
    "duration_bins = pd.cut(total_durations, bins=4, labels=['Very Low', 'Low', 'Medium', 'High'])\n",
    "\n",
    "# Plot the count of sessions in each bin\n",
    "plt.figure(figsize=(8, 6))\n",
    "sns.countplot(x=duration_bins)\n",
    "\n",
    "# Set value labels on top of each bar\n",
    "ax = plt.gca()\n",
    "for p in ax.patches:\n",
    "    ax.annotate(f'{p.get_height()}', (p.get_x() + p.get_width() / 2, p.get_height()), ha='center', va='bottom')\n",
    "\n",
    "# Set chart title and labels\n",
    "plt.xlabel('Session Duration Minute Counts')\n",
    "plt.ylabel('Count')\n",
    "plt.title('Distribution of Duration Minute Counts')\n",
    "plt.show()"
   ]
  },
  {
   "cell_type": "markdown",
   "id": "4fa3b832",
   "metadata": {},
   "source": [
    "### Conclusion"
   ]
  },
  {
   "cell_type": "markdown",
   "id": "8a94c62f",
   "metadata": {},
   "source": [
    "1. **Session Counts**\n",
    "User engagement in 2016 primarily revolves around single-session players, with an increasing frequency of sessions up to 7 times. However, only a small percentage of players exhibit high session frequency, potentially indicating a loyal and engaged player segment. To enhance user engagement, it is essential to address factors that discourage players from returning to the game after their initial session. Improving game mechanics, introducing new features, or providing incentives may help increase player retention. Encouraging regular and sustained engagement among players with moderate session counts can be achieved through targeted events, rewards, and community-building initiatives. This group represents a valuable segment with potential for further growth.\n",
    "       \n",
    "2. **Session Duration Minute Counts**\n",
    "The distribution of session durations in minutes shows the following:There were 112,193 instances where players had a session duration of 1 minute in 2016, which is very low. There were 238 instances where players had a session duration of more than 1 minute.\n",
    "    User engagement in 2016 is characterized by a large number of players who have very short session durations, indicating a lack of sustained interest or engagement with the game. To improve user engagement, it is crucial to focus on enhancing the game's appeal and providing more compelling content or features that encourage players to spend more time in each session.\n",
    "3. **Developing strategies to nurture and retain highly engaged players can contribute to long-term success**. This can include exclusive rewards, personalized experiences, and ongoing content updates to maintain their interest and satisfaction. By understanding user engagement patterns and implementing appropriate strategies, game developers and managers can optimize player experiences, increase retention, and drive revenue growth."
   ]
  },
  {
   "cell_type": "markdown",
   "id": "4f250cb9",
   "metadata": {},
   "source": [
    "## Monetization Analysis"
   ]
  },
  {
   "cell_type": "markdown",
   "id": "b48b3aa2",
   "metadata": {},
   "source": [
    "### Analysis"
   ]
  },
  {
   "cell_type": "code",
   "execution_count": 29,
   "id": "09432d01",
   "metadata": {
    "ExecuteTime": {
     "end_time": "2023-06-10T18:32:53.088234Z",
     "start_time": "2023-06-10T18:32:53.055776Z"
    }
   },
   "outputs": [
    {
     "data": {
      "text/html": [
       "<div>\n",
       "<style scoped>\n",
       "    .dataframe tbody tr th:only-of-type {\n",
       "        vertical-align: middle;\n",
       "    }\n",
       "\n",
       "    .dataframe tbody tr th {\n",
       "        vertical-align: top;\n",
       "    }\n",
       "\n",
       "    .dataframe thead th {\n",
       "        text-align: right;\n",
       "    }\n",
       "</style>\n",
       "<table border=\"1\" class=\"dataframe\">\n",
       "  <thead>\n",
       "    <tr style=\"text-align: right;\">\n",
       "      <th></th>\n",
       "      <th>account_id</th>\n",
       "      <th>created_time_x</th>\n",
       "      <th>created_device</th>\n",
       "      <th>created_platform</th>\n",
       "      <th>country_code</th>\n",
       "      <th>created_app_store_id</th>\n",
       "      <th>date_x</th>\n",
       "      <th>time_x</th>\n",
       "      <th>created_time_y</th>\n",
       "      <th>package_id_hash</th>\n",
       "      <th>iap_price_usd_cents</th>\n",
       "      <th>app_store_id</th>\n",
       "      <th>date_y</th>\n",
       "      <th>time_y</th>\n",
       "      <th>purchase_time_since_creation</th>\n",
       "      <th>iap_price_usd</th>\n",
       "      <th>month</th>\n",
       "    </tr>\n",
       "  </thead>\n",
       "  <tbody>\n",
       "    <tr>\n",
       "      <th>0</th>\n",
       "      <td>13514010</td>\n",
       "      <td>2016-03-02 17:11:00.332</td>\n",
       "      <td>iPhone6,2</td>\n",
       "      <td>iOS</td>\n",
       "      <td>GB</td>\n",
       "      <td>1</td>\n",
       "      <td>2016-03-02</td>\n",
       "      <td>17:11:00.332000</td>\n",
       "      <td>2016-03-11 09:16:29.313</td>\n",
       "      <td>99a9e0e63efa2fdce8fc8de74c66cea9</td>\n",
       "      <td>184</td>\n",
       "      <td>0</td>\n",
       "      <td>2016-03-11</td>\n",
       "      <td>09:16:29.313000</td>\n",
       "      <td>8 days 16:05:28.981000</td>\n",
       "      <td>1.84</td>\n",
       "      <td>3</td>\n",
       "    </tr>\n",
       "    <tr>\n",
       "      <th>1</th>\n",
       "      <td>14894920</td>\n",
       "      <td>2016-06-25 14:09:19.562</td>\n",
       "      <td>HUAWEI P7-L09</td>\n",
       "      <td>Android</td>\n",
       "      <td>CN</td>\n",
       "      <td>3</td>\n",
       "      <td>2016-06-25</td>\n",
       "      <td>14:09:19.562000</td>\n",
       "      <td>2016-06-29 14:47:41.680</td>\n",
       "      <td>efd2eebfdc98b55f9e6b45915d56f7ac</td>\n",
       "      <td>36</td>\n",
       "      <td>3</td>\n",
       "      <td>2016-06-29</td>\n",
       "      <td>14:47:41.680000</td>\n",
       "      <td>4 days 00:38:22.118000</td>\n",
       "      <td>0.36</td>\n",
       "      <td>6</td>\n",
       "    </tr>\n",
       "    <tr>\n",
       "      <th>2</th>\n",
       "      <td>12365400</td>\n",
       "      <td>2016-01-02 11:18:20.305</td>\n",
       "      <td>iPhone8,1</td>\n",
       "      <td>iOS</td>\n",
       "      <td>CN</td>\n",
       "      <td>1</td>\n",
       "      <td>2016-01-02</td>\n",
       "      <td>11:18:20.305000</td>\n",
       "      <td>2016-09-16 13:08:40.206</td>\n",
       "      <td>efd2eebfdc98b55f9e6b45915d56f7ac</td>\n",
       "      <td>36</td>\n",
       "      <td>10</td>\n",
       "      <td>2016-09-16</td>\n",
       "      <td>13:08:40.206000</td>\n",
       "      <td>258 days 01:50:19.901000</td>\n",
       "      <td>0.36</td>\n",
       "      <td>1</td>\n",
       "    </tr>\n",
       "    <tr>\n",
       "      <th>3</th>\n",
       "      <td>12365400</td>\n",
       "      <td>2016-01-02 11:18:20.305</td>\n",
       "      <td>iPhone8,1</td>\n",
       "      <td>iOS</td>\n",
       "      <td>CN</td>\n",
       "      <td>1</td>\n",
       "      <td>2016-01-02</td>\n",
       "      <td>11:18:20.305000</td>\n",
       "      <td>2016-09-18 09:49:06.686</td>\n",
       "      <td>99a9e0e63efa2fdce8fc8de74c66cea9</td>\n",
       "      <td>184</td>\n",
       "      <td>10</td>\n",
       "      <td>2016-09-18</td>\n",
       "      <td>09:49:06.686000</td>\n",
       "      <td>259 days 22:30:46.381000</td>\n",
       "      <td>1.84</td>\n",
       "      <td>1</td>\n",
       "    </tr>\n",
       "    <tr>\n",
       "      <th>4</th>\n",
       "      <td>12365400</td>\n",
       "      <td>2016-01-02 11:18:20.305</td>\n",
       "      <td>iPhone8,1</td>\n",
       "      <td>iOS</td>\n",
       "      <td>CN</td>\n",
       "      <td>1</td>\n",
       "      <td>2016-01-02</td>\n",
       "      <td>11:18:20.305000</td>\n",
       "      <td>2016-09-20 07:49:32.397</td>\n",
       "      <td>99a9e0e63efa2fdce8fc8de74c66cea9</td>\n",
       "      <td>184</td>\n",
       "      <td>10</td>\n",
       "      <td>2016-09-20</td>\n",
       "      <td>07:49:32.397000</td>\n",
       "      <td>261 days 20:31:12.092000</td>\n",
       "      <td>1.84</td>\n",
       "      <td>1</td>\n",
       "    </tr>\n",
       "  </tbody>\n",
       "</table>\n",
       "</div>"
      ],
      "text/plain": [
       "  account_id          created_time_x created_device created_platform  \\\n",
       "0   13514010 2016-03-02 17:11:00.332      iPhone6,2              iOS   \n",
       "1   14894920 2016-06-25 14:09:19.562  HUAWEI P7-L09          Android   \n",
       "2   12365400 2016-01-02 11:18:20.305      iPhone8,1              iOS   \n",
       "3   12365400 2016-01-02 11:18:20.305      iPhone8,1              iOS   \n",
       "4   12365400 2016-01-02 11:18:20.305      iPhone8,1              iOS   \n",
       "\n",
       "  country_code  created_app_store_id      date_x           time_x  \\\n",
       "0           GB                     1  2016-03-02  17:11:00.332000   \n",
       "1           CN                     3  2016-06-25  14:09:19.562000   \n",
       "2           CN                     1  2016-01-02  11:18:20.305000   \n",
       "3           CN                     1  2016-01-02  11:18:20.305000   \n",
       "4           CN                     1  2016-01-02  11:18:20.305000   \n",
       "\n",
       "           created_time_y                   package_id_hash  \\\n",
       "0 2016-03-11 09:16:29.313  99a9e0e63efa2fdce8fc8de74c66cea9   \n",
       "1 2016-06-29 14:47:41.680  efd2eebfdc98b55f9e6b45915d56f7ac   \n",
       "2 2016-09-16 13:08:40.206  efd2eebfdc98b55f9e6b45915d56f7ac   \n",
       "3 2016-09-18 09:49:06.686  99a9e0e63efa2fdce8fc8de74c66cea9   \n",
       "4 2016-09-20 07:49:32.397  99a9e0e63efa2fdce8fc8de74c66cea9   \n",
       "\n",
       "   iap_price_usd_cents  app_store_id      date_y           time_y  \\\n",
       "0                  184             0  2016-03-11  09:16:29.313000   \n",
       "1                   36             3  2016-06-29  14:47:41.680000   \n",
       "2                   36            10  2016-09-16  13:08:40.206000   \n",
       "3                  184            10  2016-09-18  09:49:06.686000   \n",
       "4                  184            10  2016-09-20  07:49:32.397000   \n",
       "\n",
       "  purchase_time_since_creation  iap_price_usd  month  \n",
       "0       8 days 16:05:28.981000           1.84      3  \n",
       "1       4 days 00:38:22.118000           0.36      6  \n",
       "2     258 days 01:50:19.901000           0.36      1  \n",
       "3     259 days 22:30:46.381000           1.84      1  \n",
       "4     261 days 20:31:12.092000           1.84      1  "
      ]
     },
     "execution_count": 29,
     "metadata": {},
     "output_type": "execute_result"
    }
   ],
   "source": [
    "# Review the table inner join between \"account\" and \"iap_purchase\"\n",
    "merged_df.head()"
   ]
  },
  {
   "cell_type": "code",
   "execution_count": 30,
   "id": "cc28f5c4",
   "metadata": {
    "ExecuteTime": {
     "end_time": "2023-06-10T18:32:53.154669Z",
     "start_time": "2023-06-10T18:32:53.090191Z"
    }
   },
   "outputs": [
    {
     "name": "stdout",
     "output_type": "stream",
     "text": [
      "Revenue per user ($): 0.38\n",
      "Revenue per paying user ($): 27.45\n"
     ]
    }
   ],
   "source": [
    "# In Task 1 we have total_lifetime_revenue (ALV) already\n",
    "\n",
    "# Calculate the average revenue per user (ARPU) and average revenue per paying user (ARPPU)\n",
    "arpu = total_lifetime_revenue / df_account['account_id'].nunique()\n",
    "arppu = total_lifetime_revenue / df_iap_purchase['account_id'].nunique()\n",
    "print('Revenue per user ($):', round(arpu,2))\n",
    "print('Revenue per paying user ($):', round(arppu,2))"
   ]
  },
  {
   "cell_type": "code",
   "execution_count": 31,
   "id": "a5dc64ee",
   "metadata": {
    "ExecuteTime": {
     "end_time": "2023-06-10T18:32:53.170815Z",
     "start_time": "2023-06-10T18:32:53.156923Z"
    },
    "scrolled": false
   },
   "outputs": [
    {
     "name": "stdout",
     "output_type": "stream",
     "text": [
      "1.84     3084\n",
      "0.36     2566\n",
      "3.69     2073\n",
      "7.39     1426\n",
      "18.49     369\n",
      "36.99     292\n",
      "1.10       99\n",
      "Name: iap_price_usd, dtype: int64\n"
     ]
    }
   ],
   "source": [
    "# Count the occurrences of each price point\n",
    "iap_price_distribution = merged_df['iap_price_usd'].value_counts()\n",
    "iap_price_distribution.head()\n",
    "iap_price_distribution_sorted = iap_price_distribution.sort_values(ascending=False)\n",
    "top_price_points = iap_price_distribution_sorted.head(10)\n",
    "print(top_price_points)"
   ]
  },
  {
   "cell_type": "code",
   "execution_count": 32,
   "id": "158d466a",
   "metadata": {
    "ExecuteTime": {
     "end_time": "2023-06-10T18:32:53.969158Z",
     "start_time": "2023-06-10T18:32:53.173235Z"
    },
    "scrolled": true
   },
   "outputs": [
    {
     "data": {
      "text/html": [
       "<div>\n",
       "<style scoped>\n",
       "    .dataframe tbody tr th:only-of-type {\n",
       "        vertical-align: middle;\n",
       "    }\n",
       "\n",
       "    .dataframe tbody tr th {\n",
       "        vertical-align: top;\n",
       "    }\n",
       "\n",
       "    .dataframe thead th {\n",
       "        text-align: right;\n",
       "    }\n",
       "</style>\n",
       "<table border=\"1\" class=\"dataframe\">\n",
       "  <thead>\n",
       "    <tr style=\"text-align: right;\">\n",
       "      <th></th>\n",
       "      <th>account_id</th>\n",
       "      <th>created_time</th>\n",
       "      <th>package_id_hash</th>\n",
       "      <th>iap_price_usd_cents</th>\n",
       "      <th>app_store_id</th>\n",
       "      <th>date_x</th>\n",
       "      <th>time</th>\n",
       "      <th>date_y</th>\n",
       "      <th>session_count</th>\n",
       "      <th>session_duration_sec</th>\n",
       "    </tr>\n",
       "  </thead>\n",
       "  <tbody>\n",
       "    <tr>\n",
       "      <th>0</th>\n",
       "      <td>30077202816</td>\n",
       "      <td>2016-03-26 23:59:59.355</td>\n",
       "      <td>ae0253c27c34edd1ab4fe21d6bfc91f8</td>\n",
       "      <td>739</td>\n",
       "      <td>0</td>\n",
       "      <td>2016-03-26</td>\n",
       "      <td>23:59:59.355000</td>\n",
       "      <td>2016-01-23</td>\n",
       "      <td>5</td>\n",
       "      <td>1796</td>\n",
       "    </tr>\n",
       "    <tr>\n",
       "      <th>1</th>\n",
       "      <td>30077202816</td>\n",
       "      <td>2016-03-26 23:59:59.355</td>\n",
       "      <td>ae0253c27c34edd1ab4fe21d6bfc91f8</td>\n",
       "      <td>739</td>\n",
       "      <td>0</td>\n",
       "      <td>2016-03-26</td>\n",
       "      <td>23:59:59.355000</td>\n",
       "      <td>2016-01-24</td>\n",
       "      <td>10</td>\n",
       "      <td>5076</td>\n",
       "    </tr>\n",
       "    <tr>\n",
       "      <th>2</th>\n",
       "      <td>30077202816</td>\n",
       "      <td>2016-03-26 23:59:59.355</td>\n",
       "      <td>ae0253c27c34edd1ab4fe21d6bfc91f8</td>\n",
       "      <td>739</td>\n",
       "      <td>0</td>\n",
       "      <td>2016-03-26</td>\n",
       "      <td>23:59:59.355000</td>\n",
       "      <td>2016-01-25</td>\n",
       "      <td>7</td>\n",
       "      <td>2372</td>\n",
       "    </tr>\n",
       "    <tr>\n",
       "      <th>3</th>\n",
       "      <td>30077202816</td>\n",
       "      <td>2016-03-26 23:59:59.355</td>\n",
       "      <td>ae0253c27c34edd1ab4fe21d6bfc91f8</td>\n",
       "      <td>739</td>\n",
       "      <td>0</td>\n",
       "      <td>2016-03-26</td>\n",
       "      <td>23:59:59.355000</td>\n",
       "      <td>2016-01-26</td>\n",
       "      <td>5</td>\n",
       "      <td>1344</td>\n",
       "    </tr>\n",
       "    <tr>\n",
       "      <th>4</th>\n",
       "      <td>30077202816</td>\n",
       "      <td>2016-03-26 23:59:59.355</td>\n",
       "      <td>ae0253c27c34edd1ab4fe21d6bfc91f8</td>\n",
       "      <td>739</td>\n",
       "      <td>0</td>\n",
       "      <td>2016-03-26</td>\n",
       "      <td>23:59:59.355000</td>\n",
       "      <td>2016-01-27</td>\n",
       "      <td>6</td>\n",
       "      <td>4529</td>\n",
       "    </tr>\n",
       "  </tbody>\n",
       "</table>\n",
       "</div>"
      ],
      "text/plain": [
       "    account_id            created_time                   package_id_hash  \\\n",
       "0  30077202816 2016-03-26 23:59:59.355  ae0253c27c34edd1ab4fe21d6bfc91f8   \n",
       "1  30077202816 2016-03-26 23:59:59.355  ae0253c27c34edd1ab4fe21d6bfc91f8   \n",
       "2  30077202816 2016-03-26 23:59:59.355  ae0253c27c34edd1ab4fe21d6bfc91f8   \n",
       "3  30077202816 2016-03-26 23:59:59.355  ae0253c27c34edd1ab4fe21d6bfc91f8   \n",
       "4  30077202816 2016-03-26 23:59:59.355  ae0253c27c34edd1ab4fe21d6bfc91f8   \n",
       "\n",
       "   iap_price_usd_cents  app_store_id      date_x             time      date_y  \\\n",
       "0                  739             0  2016-03-26  23:59:59.355000  2016-01-23   \n",
       "1                  739             0  2016-03-26  23:59:59.355000  2016-01-24   \n",
       "2                  739             0  2016-03-26  23:59:59.355000  2016-01-25   \n",
       "3                  739             0  2016-03-26  23:59:59.355000  2016-01-26   \n",
       "4                  739             0  2016-03-26  23:59:59.355000  2016-01-27   \n",
       "\n",
       "   session_count  session_duration_sec  \n",
       "0              5                  1796  \n",
       "1             10                  5076  \n",
       "2              7                  2372  \n",
       "3              5                  1344  \n",
       "4              6                  4529  "
      ]
     },
     "execution_count": 32,
     "metadata": {},
     "output_type": "execute_result"
    }
   ],
   "source": [
    "# Merge df_account and df_account_date_session on 'account_id'\n",
    "merged3_df = pd.merge(df_iap_purchase, df_account_date_session, on='account_id', how='inner')\n",
    "merged3_df.head()"
   ]
  },
  {
   "cell_type": "code",
   "execution_count": 33,
   "id": "9d5cc94a",
   "metadata": {
    "ExecuteTime": {
     "end_time": "2023-06-10T18:32:57.580829Z",
     "start_time": "2023-06-10T18:32:53.972465Z"
    }
   },
   "outputs": [
    {
     "data": {
      "image/png": "[encoded data removed]",
      "text/plain": [
       "<Figure size 640x480 with 1 Axes>"
      ]
     },
     "metadata": {},
     "output_type": "display_data"
    }
   ],
   "source": [
    "# Scatter plot between session count and revenue\n",
    "sns.scatterplot(x='session_count', y='iap_price_usd_cents', data=merged3_df)\n",
    "plt.show()"
   ]
  },
  {
   "cell_type": "code",
   "execution_count": 34,
   "id": "a167440d",
   "metadata": {
    "ExecuteTime": {
     "end_time": "2023-06-10T18:33:01.061606Z",
     "start_time": "2023-06-10T18:32:57.585734Z"
    },
    "scrolled": false
   },
   "outputs": [
    {
     "data": {
      "image/png": "[encoded data removed]",
      "text/plain": [
       "<Figure size 640x480 with 1 Axes>"
      ]
     },
     "metadata": {},
     "output_type": "display_data"
    }
   ],
   "source": [
    "# Scatter plot between session duration and revenue\n",
    "sns.scatterplot(x='session_duration_sec', y='iap_price_usd_cents', data=merged3_df)\n",
    "plt.show()"
   ]
  },
  {
   "cell_type": "code",
   "execution_count": 35,
   "id": "9fde2bcf",
   "metadata": {
    "ExecuteTime": {
     "end_time": "2023-06-10T18:33:01.199946Z",
     "start_time": "2023-06-10T18:33:01.062719Z"
    }
   },
   "outputs": [
    {
     "name": "stdout",
     "output_type": "stream",
     "text": [
      "Correlation between session count and revenue: 0.048477397490326174\n",
      "Correlation between session duration and revenue: 0.08975701640336363\n"
     ]
    }
   ],
   "source": [
    "correlation = merged3_df['session_count'].corr(merged3_df['iap_price_usd_cents'])\n",
    "print(\"Correlation between session count and revenue:\", correlation)\n",
    "\n",
    "correlation2 = merged3_df['session_duration_sec'].corr(merged3_df['iap_price_usd_cents'])\n",
    "print(\"Correlation between session duration and revenue:\", correlation2)"
   ]
  },
  {
   "cell_type": "markdown",
   "id": "bc043591",
   "metadata": {},
   "source": [
    "**Correlation between session count, session duration and revenue**\n",
    "+ The correlation between session count and revenue is very weak, with a correlation coefficient of approximately 0.048. This indicates that there is no strong relationship between the number of sessions played by users and the revenue generated from monetization.\n",
    "\n",
    "+ Similarly, the correlation between session duration and revenue is also very weak, with a correlation coefficient of approximately 0.090. This suggests that there is no strong relationship between the duration of user sessions and the revenue generated."
   ]
  },
  {
   "cell_type": "markdown",
   "id": "f0a120fe",
   "metadata": {},
   "source": [
    "### Conclusion"
   ]
  },
  {
   "cell_type": "markdown",
   "id": "cc2aa47d",
   "metadata": {},
   "source": [
    "1. **Revenue per user**\n",
    "Revenue per user: The average revenue generated per user is 0.38 dolar. This metric represents the average amount of revenue generated by each user, indicating the overall monetization effectiveness of the game.\n",
    "\n",
    "Revenue per paying user ($): The average revenue generated per paying user is 27.45 dolar. This metric calculates the average revenue generated by users who made in-app purchases, providing insight into the monetization potential of paying users.\n",
    "\n",
    "2. **Top price points**: The distribution of in-app purchase prices shows several notable price points. Has 7 price points and their respective occurrences are as follows: \n",
    "+ 1.84: 3084 occurrences\n",
    "+ 0.36: 2566 occurrences\n",
    "+ 3.69: 2073 occurrences\n",
    "+ 7.39: 1426 occurrences\n",
    "+ 18.49: 369 occurrences\n",
    "+ 36.99: 292 occurrences\n",
    "+ 1.10: 99 occurrences\n",
    "       \n",
    "These insights provide an understanding of the revenue generated per user and per paying user, as well as the most common price points for in-app purchases. They can be used to inform monetization strategies and optimize pricing to maximize revenue and user engagement."
   ]
  }
 ],
 "metadata": {
  "hide_input": false,
  "kernelspec": {
   "display_name": "Python 3 (ipykernel)",
   "language": "python",
   "name": "python3"
  },
  "language_info": {
   "codemirror_mode": {
    "name": "ipython",
    "version": 3
   },
   "file_extension": ".py",
   "mimetype": "text/x-python",
   "name": "python",
   "nbconvert_exporter": "python",
   "pygments_lexer": "ipython3",
   "version": "3.10.9"
  },
  "nbTranslate": {
   "displayLangs": [
    "*"
   ],
   "hotkey": "alt-t",
   "langInMainMenu": true,
   "sourceLang": "en",
   "targetLang": "fr",
   "useGoogleTranslate": true
  },
  "toc": {
   "base_numbering": 1,
   "nav_menu": {},
   "number_sections": true,
   "sideBar": true,
   "skip_h1_title": false,
   "title_cell": "Table of Contents",
   "title_sidebar": "Contents",
   "toc_cell": false,
   "toc_position": {
    "height": "calc(100% - 180px)",
    "left": "10px",
    "top": "150px",
    "width": "278.021px"
   },
   "toc_section_display": true,
   "toc_window_display": false
  },
  "varInspector": {
   "cols": {
    "lenName": 16,
    "lenType": 16,
    "lenVar": 40
   },
   "kernels_config": {
    "python": {
     "delete_cmd_postfix": "",
     "delete_cmd_prefix": "del ",
     "library": "var_list.py",
     "varRefreshCmd": "print(var_dic_list())"
    },
    "r": {
     "delete_cmd_postfix": ") ",
     "delete_cmd_prefix": "rm(",
     "library": "var_list.r",
     "varRefreshCmd": "cat(var_dic_list()) "
    }
   },
   "types_to_exclude": [
    "module",
    "function",
    "builtin_function_or_method",
    "instance",
    "_Feature"
   ],
   "window_display": false
  }
 },
 "nbformat": 4,
 "nbformat_minor": 5
}
